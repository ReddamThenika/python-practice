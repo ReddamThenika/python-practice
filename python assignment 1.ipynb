{
 "cells": [
  {
   "cell_type": "code",
   "execution_count": 1,
   "id": "212dd42a",
   "metadata": {},
   "outputs": [
    {
     "name": "stdout",
     "output_type": "stream",
     "text": [
      "Enter first number10\n",
      "Enter first number3\n",
      "Addition: 13\n",
      "Subtraction: 7\n",
      "Mutiplication: 30\n",
      "Division: 3.3333333333333335\n",
      "Modulus: 1\n",
      "Exponentiation: 1000\n",
      "Floor Division: 3\n"
     ]
    }
   ],
   "source": [
    "#part 1\n",
    "#operators\n",
    "#Exercise 1 Arithmetic Operators\n",
    "n=int(input(\"Enter first number\"))\n",
    "m=int(input(\"Enter first number\"))\n",
    "print(\"Addition:\", n+m)\n",
    "print(\"Subtraction:\", n-m)\n",
    "print(\"Mutiplication:\", n*m)\n",
    "print(\"Division:\", n/m)\n",
    "print(\"Modulus:\", n%m)\n",
    "print(\"Exponentiation:\", n**m)\n",
    "print(\"Floor Division:\", n//m)"
   ]
  },
  {
   "cell_type": "code",
   "execution_count": 5,
   "id": "b3ba1a90",
   "metadata": {},
   "outputs": [
    {
     "data": {
      "text/plain": [
       "True"
      ]
     },
     "execution_count": 5,
     "metadata": {},
     "output_type": "execute_result"
    }
   ],
   "source": [
    "#Exercise 2\n",
    "num1=20\n",
    "num2=10\n",
    "num1>num2"
   ]
  },
  {
   "cell_type": "code",
   "execution_count": 6,
   "id": "d5a730ef",
   "metadata": {},
   "outputs": [
    {
     "data": {
      "text/plain": [
       "False"
      ]
     },
     "execution_count": 6,
     "metadata": {},
     "output_type": "execute_result"
    }
   ],
   "source": [
    "num1==num2\n"
   ]
  },
  {
   "cell_type": "code",
   "execution_count": 7,
   "id": "72f0c14e",
   "metadata": {},
   "outputs": [
    {
     "data": {
      "text/plain": [
       "False"
      ]
     },
     "execution_count": 7,
     "metadata": {},
     "output_type": "execute_result"
    }
   ],
   "source": [
    "num1<=num2"
   ]
  },
  {
   "cell_type": "code",
   "execution_count": 1,
   "id": "97a86751",
   "metadata": {},
   "outputs": [
    {
     "name": "stdout",
     "output_type": "stream",
     "text": [
      "enter first number34\n",
      "enter second number45\n",
      "\n",
      "and: True or: True not: False not: False\n"
     ]
    }
   ],
   "source": [
    "#Exercise 3\n",
    "first= bool(int(input(\"enter first number\")))\n",
    "sec= bool(int(input(\"enter second number\")))\n",
    "print()\n",
    "r1=first and sec\n",
    "r2=first or sec\n",
    "r3= not first\n",
    "r4= not sec\n",
    "print(\"and:\",r1,\"or:\",r2,\"not:\",r3,\"not:\",r4)\n",
    "\n"
   ]
  },
  {
   "cell_type": "code",
   "execution_count": 1,
   "id": "480339ff",
   "metadata": {},
   "outputs": [
    {
     "name": "stdout",
     "output_type": "stream",
     "text": [
      "Enter a string: thenika\n",
      "Length of the string: 7\n",
      "First character: t\n",
      "Last character: a\n",
      "String in reverse: akineht\n",
      "Uppercase: THENIKA\n",
      "Lowercase: thenika\n"
     ]
    }
   ],
   "source": [
    "#part 2\n",
    "#Exercise 4:String Manipulation\n",
    "# Taking input from the user\n",
    "input = input(\"Enter a string: \")\n",
    "\n",
    "# Displaying the length of the string\n",
    "print(f\"Length of the string: {len(input)}\")\n",
    "\n",
    "# Displaying the first and last character of the string\n",
    "print(f\"First character: {input[0]}\")\n",
    "print(f\"Last character: {input[-1]}\")\n",
    "\n",
    "# Displaying the string in reverse order\n",
    "print(f\"String in reverse: {input[::-1]}\")\n",
    "\n",
    "# Displaying the string in uppercase and lowercase\n",
    "print(f\"Uppercase: {input.upper()}\")\n",
    "print(f\"Lowercase: {input.lower()}\")\n"
   ]
  },
  {
   "cell_type": "code",
   "execution_count": 2,
   "id": "9e2cd491",
   "metadata": {},
   "outputs": [
    {
     "name": "stdout",
     "output_type": "stream",
     "text": [
      "Enter your name: Reddam Thenika\n",
      "Enter your age: 21\n",
      "Hello Reddam Thenika, you are 21 years old.\n"
     ]
    }
   ],
   "source": [
    "#Exercise 5\n",
    "# String formatting\n",
    "# Taking input from the user for name and age\n",
    "name = str(input(\"Enter your name: \"))\n",
    "age = int(input(\"Enter your age: \"))\n",
    "\n",
    "# Displaying the message in the required format\n",
    "print(f\"Hello {name}, you are {age} years old.\")\n",
    "\n"
   ]
  },
  {
   "cell_type": "code",
   "execution_count": 3,
   "id": "215b6c38",
   "metadata": {},
   "outputs": [
    {
     "name": "stdout",
     "output_type": "stream",
     "text": [
      "Enter a sentence: python is a programming language\n",
      "Enter a word to search: is\n",
      "The word 'is' exists in the sentence at index 7.\n"
     ]
    }
   ],
   "source": [
    "#Exercise 6 \n",
    "#substring search\n",
    "# Asking for a sentence input from the user\n",
    "sentence = input(\"Enter a sentence: \")\n",
    "word = input(\"Enter a word to search: \")\n",
    "\n",
    "if word in sentence:\n",
    "    position = sentence.find(word)  \n",
    "    print(f\"The word '{word}' exists in the sentence at index {position}.\")\n",
    "else:\n",
    "    print(f\"The word '{word}' does not exist in the sentence.\")\n",
    "\n"
   ]
  },
  {
   "cell_type": "code",
   "execution_count": 4,
   "id": "2131ce76",
   "metadata": {},
   "outputs": [
    {
     "name": "stdout",
     "output_type": "stream",
     "text": [
      "Enter number 1: 4\n",
      "Enter number 2: 8\n",
      "Enter number 3: 9\n",
      "Enter number 4: 0\n",
      "Enter number 5: 8\n",
      "The sum of all the numbers is: 29\n",
      "The largest number is: 9\n",
      "The smallest number is: 0\n"
     ]
    }
   ],
   "source": [
    "#part 3\n",
    "#Lists\n",
    "#Exercise 7\n",
    "#list operations\n",
    "# 1: Creating a list of 5 numbers (input from the user)\n",
    "numbers = []\n",
    "for i in range(5):\n",
    "    num = int(input(f\"Enter number {i+1}: \"))\n",
    "    numbers.append(num)\n",
    "\n",
    "#2: Displaying the sum of all the numbers in the list\n",
    "total_sum = sum(numbers)\n",
    "print(f\"The sum of all the numbers is: {total_sum}\")\n",
    "\n",
    "#3: Finding the largest and smallest number in the list\n",
    "largest = max(numbers)\n",
    "smallest = min(numbers)\n",
    "\n",
    "print(f\"The largest number is: {largest}\")\n",
    "print(f\"The smallest number is: {smallest}\")\n",
    "\n"
   ]
  },
  {
   "cell_type": "code",
   "execution_count": 5,
   "id": "23940d44",
   "metadata": {},
   "outputs": [
    {
     "name": "stdout",
     "output_type": "stream",
     "text": [
      "Updated list of fruits: ['Apple', 'Mango', 'Orange', 'Grapes', 'Dragon']\n"
     ]
    }
   ],
   "source": [
    "#Exercise 8\n",
    "#List manipulation\n",
    "#1: Create a list of 5 favorite fruits\n",
    "fruits = [\"Apple\", \"Banana\", \"Mango\", \"Orange\", \"Grapes\"]\n",
    "\n",
    "#2: Add one more fruit to the list\n",
    "fruits.append(\"Dragon\")\n",
    "\n",
    "#3: Remove the second fruit from the list (index 1 since lists are 0-indexed)\n",
    "fruits.pop(1)\n",
    "\n",
    "#4: Print the updated list\n",
    "print(\"Updated list of fruits:\", fruits)\n"
   ]
  },
  {
   "cell_type": "code",
   "execution_count": 6,
   "id": "f4f72aec",
   "metadata": {},
   "outputs": [
    {
     "name": "stdout",
     "output_type": "stream",
     "text": [
      "Enter number 1: 5\n",
      "Enter number 2: 7\n",
      "Enter number 3: 9\n",
      "Enter number 4: 0\n",
      "Enter number 5: 7\n",
      "Sorted list in ascending order: [0.0, 5.0, 7.0, 7.0, 9.0]\n",
      "Sorted list in descending order: [9.0, 7.0, 7.0, 5.0, 0.0]\n"
     ]
    }
   ],
   "source": [
    "#Exercise 9 \n",
    "#Sorting the list\n",
    "# Step 1: Asking the user to input a list of 5 numbers\n",
    "numbers = []\n",
    "for i in range(5):\n",
    "    num = float(input(f\"Enter number {i + 1}: \"))  # Using float to allow decimal numbers\n",
    "    numbers.append(num)\n",
    "\n",
    "#2: Sorting the list in ascending order and displaying it\n",
    "numbers.sort()  # Sorts in place\n",
    "print(\"Sorted list in ascending order:\", numbers)\n",
    "\n",
    "#3: Sorting the list in descending order and displaying it\n",
    "numbers.sort(reverse=True)  # Sorts in place in descending order\n",
    "print(\"Sorted list in descending order:\", numbers)\n",
    "\n"
   ]
  },
  {
   "cell_type": "code",
   "execution_count": 7,
   "id": "b242f548",
   "metadata": {},
   "outputs": [
    {
     "name": "stdout",
     "output_type": "stream",
     "text": [
      "First 5 elements: [1, 2, 3, 4, 5]\n",
      "Last 5 elements: [6, 7, 8, 9, 10]\n",
      "Elements from index 2 to index 7: [3, 4, 5, 6, 7, 8]\n"
     ]
    }
   ],
   "source": [
    "#Exercisse 10\n",
    "#List slicing\n",
    "# Given list of numbers\n",
    "numbers = [1, 2, 3, 4, 5, 6, 7, 8, 9, 10]\n",
    "\n",
    "#1: Print the first 5 elements\n",
    "print(\"First 5 elements:\", numbers[:5])\n",
    "\n",
    "#2: Print the last 5 elements\n",
    "print(\"Last 5 elements:\", numbers[-5:])\n",
    "\n",
    "#3: Print the elements from index 2 to index 7\n",
    "print(\"Elements from index 2 to index 7:\", numbers[2:8])  \n"
   ]
  },
  {
   "cell_type": "code",
   "execution_count": null,
   "id": "6b098fc7",
   "metadata": {},
   "outputs": [],
   "source": []
  }
 ],
 "metadata": {
  "kernelspec": {
   "display_name": "Python 3 (ipykernel)",
   "language": "python",
   "name": "python3"
  },
  "language_info": {
   "codemirror_mode": {
    "name": "ipython",
    "version": 3
   },
   "file_extension": ".py",
   "mimetype": "text/x-python",
   "name": "python",
   "nbconvert_exporter": "python",
   "pygments_lexer": "ipython3",
   "version": "3.11.5"
  }
 },
 "nbformat": 4,
 "nbformat_minor": 5
}
